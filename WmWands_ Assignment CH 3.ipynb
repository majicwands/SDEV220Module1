{
 "cells": [
  {
   "cell_type": "code",
   "execution_count": 15,
   "id": "65c06d81",
   "metadata": {},
   "outputs": [
    {
     "name": "stdout",
     "output_type": "stream",
     "text": [
      "The total number of seconds in an Hour is  3600.0\n",
      "the total number of secondes in a day is  86400.0\n",
      "the total seconds a day divided by seconds per hour is  24.0\n",
      " the ratio of seconds to a day is  24.0\n"
     ]
    }
   ],
   "source": [
    "#assignment 3.1\n",
    "sec_min = 60.0\n",
    "min_hr = 60.0\n",
    "sec_perHr = float(sec_min * min_hr)\n",
    "print('The total number of seconds in an Hour is ',sec_perHr)\n",
    "#assignment 3.2\n",
    "seconds_per_hour = sec_perHr\n",
    "#assignment 3.3\n",
    "seconds_per_day = float(seconds_per_hour * 24)\n",
    "print('the total number of secondes in a day is ', seconds_per_day)\n",
    "#assignment 3.4\n",
    "seconds = float(seconds_per_day / seconds_per_hour)\n",
    "print('the total seconds a day divided by seconds per hour is ',seconds)\n",
    "#seconds_per_day / seconds_per_hour = 86400/3600 = 24 * 3600\n",
    "#assignment 3.5\n",
    "ratio_sec_to_hrs = float(seconds_per_day // seconds_per_hour)\n",
    "print(\" the ratio of seconds to a day is \",ratio_sec_to_hrs)\n",
    "\n",
    "\n",
    "\n",
    "\n"
   ]
  },
  {
   "cell_type": "code",
   "execution_count": null,
   "id": "e6ff1a7e",
   "metadata": {},
   "outputs": [],
   "source": []
  }
 ],
 "metadata": {
  "kernelspec": {
   "display_name": "Python 3 (ipykernel)",
   "language": "python",
   "name": "python3"
  },
  "language_info": {
   "codemirror_mode": {
    "name": "ipython",
    "version": 3
   },
   "file_extension": ".py",
   "mimetype": "text/x-python",
   "name": "python",
   "nbconvert_exporter": "python",
   "pygments_lexer": "ipython3",
   "version": "3.9.12"
  }
 },
 "nbformat": 4,
 "nbformat_minor": 5
}
